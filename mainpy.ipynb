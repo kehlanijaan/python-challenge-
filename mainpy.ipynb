{
 "cells": [
  {
   "cell_type": "code",
   "execution_count": 3,
   "metadata": {},
   "outputs": [
    {
     "ename": "IndentationError",
     "evalue": "expected an indented block after 'with' statement on line 6 (1870068728.py, line 7)",
     "output_type": "error",
     "traceback": [
      "\u001b[1;36m  Cell \u001b[1;32mIn[3], line 7\u001b[1;36m\u001b[0m\n\u001b[1;33m    cwriter = csv.writer(csvfile, delimiter=',''Resources', 'budget_data.csv')\u001b[0m\n\u001b[1;37m    ^\u001b[0m\n\u001b[1;31mIndentationError\u001b[0m\u001b[1;31m:\u001b[0m expected an indented block after 'with' statement on line 6\n"
     ]
    }
   ],
   "source": [
    "#Allow user to create a path \n",
    "import os \n",
    "#Allow user to read budget_data.csv file\n",
    "import csv\n",
    "\n",
    "with open('v.csv', 'w') as csvfile: \n",
    "cwriter = csv.writer(csvfile, delimiter=',''Resources', 'budget_data.csv')\n",
    " \n",
    "totalmonths = 0 \n",
    "total = 0 \n",
    "change = ()\n",
    "profitlosses = ()\n",
    "month = ()\n",
    "\n",
    "csvpath = os.path.join ('budget_data.csv') \n",
    "with open(csvpath) as csvfile:\n",
    "    csvreader = csv.reader(csvfile, delimiter=',')\n",
    "    next(csvreader)\n",
    "\n",
    "\n",
    "    for csvrow in csvreader:\n",
    "\n",
    "    #Number of lines present\n",
    "        totalmonths+=1\n",
    "        #print(totalmonths)\n",
    "\n",
    "    #Profitlosses Net total \n",
    "        total+=int(csvrow[1])\n",
    "        #print(total)\n",
    "\n",
    "    #Append Row Column to new list\n",
    "        profitlosses.append(int(csvrow[1])) \n",
    "\n",
    "    #Calculate the profit and loss differences \n",
    "        change.append(profitloss[totalmonths-1]-profitloss[totalmonths-2])\n",
    "        # print(profitloss)\n",
    "\n",
    "    #Sum the difference\n",
    "    totalchange = sum(change)\n",
    "\n",
    "    #Calculate the average and dived by the total  rows **round to the second decimal place**\n",
    "    averagechange = round(totalchange/(len(change)-1), 2)\n",
    "    #print(averagechange)\n",
    "\n",
    "    #Greatest increase in profit\n",
    "    inc_profit = max(change)\n",
    "    grt_increase = change.index(inc_profit)\n",
    "  \n",
    "    \n",
    "    #Greatest decrease in profit\n",
    "    dec_profit = min(change)\n",
    "    grt_decrease = change.index(dec_profit)\n",
    "  \n",
    "    \n",
    "\n",
    "#Write to text file\n",
    "output_path = \"budget_analysis.txt\"\n",
    "\n",
    "file =  open(output_path, 'w') \n",
    "\n",
    "\n",
    "file.write(\"Financial Analysis\\n\")\n",
    "file.write(\"----------------------------\\n\")\n",
    "file.write(f\"Total Months: {totalmonths}\\n\")\n",
    "file.write(f\"Total: ${total} \\n\")\n",
    "file.write(f\"Average Change: ${averagechange}\\n\")\n",
    "file.write(f\"Greatest Increase in Profits: {month[grt_increase]} (${inc_profit}) \\n\")\n",
    "file.write(f\"Dreatest Decrease in Profits: {month[grt_decrease]} (${ dec_profit})\\n\")\n",
    "\n",
    "file.close()\n"
   ]
  }
 ],
 "metadata": {
  "kernelspec": {
   "display_name": "Python 3",
   "language": "python",
   "name": "python3"
  },
  "language_info": {
   "codemirror_mode": {
    "name": "ipython",
    "version": 3
   },
   "file_extension": ".py",
   "mimetype": "text/x-python",
   "name": "python",
   "nbconvert_exporter": "python",
   "pygments_lexer": "ipython3",
   "version": "3.12.0"
  }
 },
 "nbformat": 4,
 "nbformat_minor": 2
}
